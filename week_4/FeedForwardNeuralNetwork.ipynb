{
  "cells": [
    {
      "cell_type": "markdown",
      "metadata": {
        "id": "view-in-github",
        "colab_type": "text"
      },
      "source": [
        "<a href=\"https://colab.research.google.com/github/devparikh0506/DATA_690_Deep_Learning/blob/main/week_4/FeedForwardNeuralNetwork.ipynb\" target=\"_parent\"><img src=\"https://colab.research.google.com/assets/colab-badge.svg\" alt=\"Open In Colab\"/></a>"
      ]
    },
    {
      "cell_type": "markdown",
      "source": [
        "## [source](https://github.com/bufuchangfeng/NeuralNetwork/blob/nn/nn_and_cnn.ipynb)"
      ],
      "metadata": {
        "id": "juX2QHAKBgaT"
      }
    },
    {
      "cell_type": "code",
      "execution_count": null,
      "metadata": {
        "id": "f2Np2dRGuFsb"
      },
      "outputs": [],
      "source": [
        "import numpy as np\n",
        "from sklearn.model_selection import train_test_split\n",
        "from sklearn.utils import shuffle\n",
        "import matplotlib.pyplot as plt\n",
        "from abc import ABC, abstractmethod\n",
        "import os"
      ]
    },
    {
      "cell_type": "code",
      "source": [
        "from google.colab import drive\n",
        "drive.mount('/content/drive')"
      ],
      "metadata": {
        "id": "kvbqoIZ_z9Kz",
        "colab": {
          "base_uri": "https://localhost:8080/"
        },
        "outputId": "52c701cb-627a-4fb5-a5ef-52721b8339bd"
      },
      "execution_count": null,
      "outputs": [
        {
          "output_type": "stream",
          "name": "stdout",
          "text": [
            "Mounted at /content/drive\n"
          ]
        }
      ]
    },
    {
      "cell_type": "code",
      "source": [
        "np.random.seed(42)"
      ],
      "metadata": {
        "id": "r783zRf4MDSX"
      },
      "execution_count": null,
      "outputs": []
    },
    {
      "cell_type": "code",
      "source": [
        "def load_data(path):\n",
        "    \"\"\"Loads the MNIST dataset and splits it into training and testing sets.\n",
        "\n",
        "    Args:\n",
        "        path (str): Path to the MNIST dataset file.\n",
        "\n",
        "    Returns:\n",
        "        Tuple: (x_train, y_train, x_test, y_test)\n",
        "    \"\"\"\n",
        "    with np.load(path) as f:\n",
        "        # Load training data and labels\n",
        "        x_train, y_train = f['x_train'], f['y_train']\n",
        "        # Load testing data and labels\n",
        "        x_test, y_test = f['x_test'], f['y_test']\n",
        "        return x_train, y_train, x_test, y_test\n",
        "\n",
        "# Load MNIST dataset\n",
        "train_data, train_label, test_data, test_label = load_data('/content/drive/MyDrive/DATA-690-deep-learning/data/mnist.npz')"
      ],
      "metadata": {
        "id": "s_O0MDfY_uPs"
      },
      "execution_count": null,
      "outputs": []
    },
    {
      "cell_type": "code",
      "source": [
        "# normalize the image data\n",
        "X_train = (train_data/255 - 0.5)*2\n",
        "X_test = (test_data/255 - 0.5)*2"
      ],
      "metadata": {
        "id": "Q6nd-S_46_UI"
      },
      "execution_count": null,
      "outputs": []
    },
    {
      "cell_type": "code",
      "source": [
        "X_train.shape"
      ],
      "metadata": {
        "colab": {
          "base_uri": "https://localhost:8080/"
        },
        "id": "AUWNTaQMA0M_",
        "outputId": "e3cc840f-b7bd-4a34-803b-a0921f75d6e0"
      },
      "execution_count": null,
      "outputs": [
        {
          "output_type": "execute_result",
          "data": {
            "text/plain": [
              "(60000, 28, 28)"
            ]
          },
          "metadata": {},
          "execution_count": 8
        }
      ]
    },
    {
      "cell_type": "code",
      "source": [
        "#Reshape the training data to have a channel dimension\n",
        "train_data = X_train.reshape(-1, 1, 28, 28)"
      ],
      "metadata": {
        "id": "ar6C1Np5O92r"
      },
      "execution_count": null,
      "outputs": []
    },
    {
      "cell_type": "code",
      "source": [
        "train_label.shape"
      ],
      "metadata": {
        "colab": {
          "base_uri": "https://localhost:8080/"
        },
        "id": "MkgkwUaUA437",
        "outputId": "7b07cfc2-92e2-4181-9e0d-a2ec83b2e336"
      },
      "execution_count": null,
      "outputs": [
        {
          "output_type": "execute_result",
          "data": {
            "text/plain": [
              "(60000,)"
            ]
          },
          "metadata": {},
          "execution_count": 10
        }
      ]
    },
    {
      "cell_type": "code",
      "source": [
        "X_test.shape"
      ],
      "metadata": {
        "colab": {
          "base_uri": "https://localhost:8080/"
        },
        "id": "lZlgPEh5A7UD",
        "outputId": "2e0a2ce7-dc74-4517-e823-3d867e825f01"
      },
      "execution_count": null,
      "outputs": [
        {
          "output_type": "execute_result",
          "data": {
            "text/plain": [
              "(10000, 28, 28)"
            ]
          },
          "metadata": {},
          "execution_count": 11
        }
      ]
    },
    {
      "cell_type": "code",
      "source": [
        "test_data = X_test.reshape(-1, 1, 28, 28)"
      ],
      "metadata": {
        "id": "jJUwaL8QPHaJ"
      },
      "execution_count": null,
      "outputs": []
    },
    {
      "cell_type": "code",
      "source": [
        "train_data, valid_data, train_label, valid_label = train_test_split(train_data, train_label, test_size=0.2, random_state=42)"
      ],
      "metadata": {
        "id": "syoW_JzqBLJI"
      },
      "execution_count": null,
      "outputs": []
    },
    {
      "cell_type": "code",
      "source": [
        "train_data.shape"
      ],
      "metadata": {
        "colab": {
          "base_uri": "https://localhost:8080/"
        },
        "id": "iAteLkirBW5D",
        "outputId": "1a201115-2fb1-4549-af94-54848e5832fc"
      },
      "execution_count": null,
      "outputs": [
        {
          "output_type": "execute_result",
          "data": {
            "text/plain": [
              "(48000, 1, 28, 28)"
            ]
          },
          "metadata": {},
          "execution_count": 14
        }
      ]
    },
    {
      "cell_type": "code",
      "execution_count": null,
      "metadata": {
        "id": "JDt5c2ZjuFsd",
        "outputId": "766c4c0a-c1e3-46d0-b794-90a4bb760581",
        "colab": {
          "base_uri": "https://localhost:8080/",
          "height": 430
        }
      },
      "outputs": [
        {
          "output_type": "display_data",
          "data": {
            "text/plain": [
              "<Figure size 640x480 with 1 Axes>"
            ],
            "image/png": "[encoded data removed]"
          },
          "metadata": {}
        }
      ],
      "source": [
        "plt.imshow(valid_data[2].reshape(28, 28))\n",
        "plt.show()\n"
      ]
    },
    {
      "cell_type": "code",
      "source": [
        "valid_label[2]"
      ],
      "metadata": {
        "colab": {
          "base_uri": "https://localhost:8080/"
        },
        "id": "9Bkeka7RBuxv",
        "outputId": "d7ade2e5-8145-4bce-dc1e-fcd90e7dff29"
      },
      "execution_count": null,
      "outputs": [
        {
          "output_type": "execute_result",
          "data": {
            "text/plain": [
              "8"
            ]
          },
          "metadata": {},
          "execution_count": 16
        }
      ]
    },
    {
      "cell_type": "code",
      "execution_count": null,
      "metadata": {
        "id": "BgxGVU90uFsd"
      },
      "outputs": [],
      "source": [
        "def label_to_one_hot(y, n_class):\n",
        "    \"\"\"Converts labels to one-hot encoding.\n",
        "\n",
        "    Args:\n",
        "        y (numpy.ndarray): Array of labels.\n",
        "        n_class (int): Number of classes.\n",
        "\n",
        "    Returns:\n",
        "        numpy.ndarray: One-hot encoded labels.\n",
        "    \"\"\"\n",
        "    one_hot = np.zeros((y.shape[0], n_class))\n",
        "    for i in range(len(y)):\n",
        "        one_hot[i][int(y[i])] = 1\n",
        "\n",
        "    return one_hot"
      ]
    },
    {
      "cell_type": "code",
      "source": [
        "# prompt: provide a generator to provide data as batches to  model\n",
        "\n",
        "def data_generator(data, label, batch_size):\n",
        "  \"\"\"\n",
        "  Generates batches of data and labels.\n",
        "\n",
        "  Args:\n",
        "    data: The input data.\n",
        "    label: The corresponding labels.\n",
        "    batch_size: The size of each batch.\n",
        "\n",
        "  Yields:\n",
        "    A tuple of (data_batch, label_batch).\n",
        "  \"\"\"\n",
        "  num_samples = len(data)\n",
        "  num_batches = num_samples // batch_size\n",
        "\n",
        "  for i in range(num_batches):\n",
        "    start = i * batch_size\n",
        "    end = (i + 1) * batch_size\n",
        "    yield data[start:end], label[start:end]\n",
        "\n",
        "  # If there are remaining samples, yield a smaller batch.\n",
        "  if num_samples % batch_size != 0:\n",
        "    yield data[num_batches * batch_size:], label[num_batches * batch_size:]\n"
      ],
      "metadata": {
        "id": "U4YyVAdf4Acy"
      },
      "execution_count": null,
      "outputs": []
    },
    {
      "cell_type": "code",
      "source": [
        "class Layer(ABC):\n",
        "  \"\"\"The base class for NN model layer.\"\"\"\n",
        "  def __init__(self):\n",
        "      super.__init__()\n",
        "\n",
        "  @abstractmethod\n",
        "  def forward(self, x):\n",
        "    raise NotImplementedError\n",
        "\n",
        "  @abstractmethod\n",
        "  def backward(self, dout):\n",
        "    raise NotImplementedError"
      ],
      "metadata": {
        "id": "5zYeFs1duufR"
      },
      "execution_count": null,
      "outputs": []
    },
    {
      "cell_type": "markdown",
      "source": [
        "# Weight initialization function"
      ],
      "metadata": {
        "id": "uNgNIaCQ__Ug"
      }
    },
    {
      "cell_type": "code",
      "source": [
        "def he_uniform(weight_shape):\n",
        "    \"\"\"\n",
        "    Uniform(-b, b), b=sqrt(6/fan_in)\n",
        "    Args:\n",
        "        weight_shape: the shape of weight, for example (784, 300)\n",
        "    \"\"\"\n",
        "    fan_in, fan_out = weight_shape\n",
        "    b = np.sqrt(6 / fan_in)\n",
        "    return np.random.uniform(-b, b, size=weight_shape)"
      ],
      "metadata": {
        "id": "XXaj88zpABUh"
      },
      "execution_count": null,
      "outputs": []
    },
    {
      "cell_type": "code",
      "execution_count": null,
      "metadata": {
        "id": "iT4rJH-kuFsd"
      },
      "outputs": [],
      "source": [
        "class Linear(Layer):\n",
        "    def __init__(self, input_dim, output_dim):\n",
        "        self.params = {}\n",
        "        self.params['W'] = he_uniform((input_dim, output_dim))\n",
        "        self.params['b'] = np.random.randn(output_dim)\n",
        "\n",
        "        self.grads = {}\n",
        "\n",
        "    def forward(self, x):\n",
        "\n",
        "        self.x = x\n",
        "\n",
        "        out = np.dot(x, self.params['W']) + self.params['b']\n",
        "        return out\n",
        "\n",
        "    def backward(self, dout):\n",
        "\n",
        "        self.grads['W'] = np.dot(self.x.T, dout)\n",
        "        self.grads['b'] = np.sum(dout, axis=0)\n",
        "\n",
        "        return np.dot(dout, self.params['W'].T)"
      ]
    },
    {
      "cell_type": "markdown",
      "source": [
        "# Adding Sigmoid Layer"
      ],
      "metadata": {
        "id": "vvpmUacp_KgS"
      }
    },
    {
      "cell_type": "code",
      "source": [
        "class Sigmoid(Layer):\n",
        "    def __init__(self):\n",
        "        self.params = None\n",
        "        self.out = None\n",
        "\n",
        "    def forward(self, x):\n",
        "        self.out = 1 / (1 + np.exp(-x))\n",
        "        return self.out\n",
        "\n",
        "    def backward(self, dout):\n",
        "        dx = dout * ( 1 - self.out) * self.out\n",
        "        return dx"
      ],
      "metadata": {
        "id": "VBKz_YQc-zML"
      },
      "execution_count": null,
      "outputs": []
    },
    {
      "cell_type": "code",
      "execution_count": null,
      "metadata": {
        "id": "wB5jjKTWuFsd"
      },
      "outputs": [],
      "source": [
        "class ReLU(Layer):\n",
        "    def __init__(self):\n",
        "        self.params = None\n",
        "\n",
        "    def forward(self, x):\n",
        "        self.mask = (x <= 0)\n",
        "        out = x.copy()\n",
        "        out[self.mask] = 0\n",
        "\n",
        "        return out\n",
        "\n",
        "    def backward(self, dout):\n",
        "        dout[self.mask] = 0\n",
        "\n",
        "        return dout"
      ]
    },
    {
      "cell_type": "code",
      "source": [
        "def softmax(x):\n",
        "    e_x = np.exp(x - np.max(x, axis=-1, keepdims=True))\n",
        "    return e_x / e_x.sum(axis=-1, keepdims=True)"
      ],
      "metadata": {
        "id": "07G9Qrb5GWNF"
      },
      "execution_count": null,
      "outputs": []
    },
    {
      "cell_type": "code",
      "execution_count": null,
      "metadata": {
        "id": "Os_NmQtTuFsd"
      },
      "outputs": [],
      "source": [
        "class SoftmaxWithCrossEntropyLoss(Layer):\n",
        "    def __init__(self):\n",
        "        self.params = None\n",
        "\n",
        "    def forward(self, out, y):\n",
        "        '''\n",
        "            out: output of last fully connected layer\n",
        "            y: true label\n",
        "        '''\n",
        "\n",
        "        batch_size = out.shape[0]\n",
        "\n",
        "        # max_val = np.max(out, axis=1).reshape(-1, 1)\n",
        "        # # print(out)\n",
        "        # # print(max_val)\n",
        "        # exp_out = np.exp(out - max_val)\n",
        "        # sum_exp_out = np.sum(exp_out, axis=1).reshape(-1, 1)\n",
        "        # out = exp_out / sum_exp_out\n",
        "\n",
        "        out = softmax(out)\n",
        "\n",
        "        self.out = out\n",
        "        self.y = y\n",
        "\n",
        "        log_out = np.log(out + 1e-7)\n",
        "\n",
        "        loss = np.sum(-log_out * y)\n",
        "\n",
        "        return loss / batch_size, out\n",
        "\n",
        "    def backward(self, dout):\n",
        "        return (self.out - self.y) / batch_size"
      ]
    },
    {
      "cell_type": "code",
      "execution_count": null,
      "metadata": {
        "id": "O9j1LznQuFse"
      },
      "outputs": [],
      "source": [
        "class FNN(Layer):\n",
        "    def __init__(self):\n",
        "        self.layers = []\n",
        "        self.layers.append(Linear(784, 512)) # Changed first layer\n",
        "        self.layers.append(Sigmoid()) # changed ReLU to Sigmoid\n",
        "        self.layers.append(Linear(512, 256)) # added new hidden layer\n",
        "        self.layers.append(Sigmoid()) # changed ReLU to Sigmoid\n",
        "        self.layers.append(Linear(256, 128)) # modified hidden layer\n",
        "        self.layers.append(Sigmoid()) # changed ReLU to Sigmoid\n",
        "        self.layers.append(Linear(128, 64))  # modified hidden layer\n",
        "        self.layers.append(Sigmoid()) # changed ReLU to Sigmoid\n",
        "        self.layers.append(Linear(64, 10))  # modified ouput layer\n",
        "        self.layers.append(SoftmaxWithCrossEntropyLoss())\n",
        "\n",
        "\n",
        "    def forward(self, x, y):\n",
        "        batch_size = x.shape[0]\n",
        "\n",
        "        y = label_to_one_hot(y, 10)\n",
        "\n",
        "        x = x.reshape(batch_size, 784)\n",
        "\n",
        "        for layer in self.layers[:-1]:\n",
        "            x = layer.forward(x)\n",
        "\n",
        "        return self.layers[-1].forward(x, y)\n",
        "\n",
        "\n",
        "    def backward(self):\n",
        "        dout = 1\n",
        "        for layer in self.layers[::-1]:\n",
        "            dout = layer.backward(dout)\n",
        "\n",
        "    def save(self, filepath):\n",
        "        \"\"\"\n",
        "        Saves the parameters of the model to a .npz file.\n",
        "        \"\"\"\n",
        "        params = {}\n",
        "        for i, layer in enumerate(self.layers):\n",
        "            if hasattr(layer, 'params') and layer.params is not None:\n",
        "                for j, param in enumerate(layer.params):\n",
        "                    params[f'layer_{i}_param_{j}'] = param\n",
        "\n",
        "        np.savez(filepath, **params)\n",
        "        print(f\"Model parameters saved to {filepath}\")\n",
        "\n",
        "    def load(self, filepath):\n",
        "        \"\"\"\n",
        "        Loads the parameters of the model from a npz file.\n",
        "        \"\"\"\n",
        "        if not os.path.exists(filepath):\n",
        "            raise FileNotFoundError(f\"No file found at {filepath}\")\n",
        "\n",
        "        params = np.load(filepath)\n",
        "        for i, layer in enumerate(self.layers):\n",
        "            if hasattr(layer, 'params') and layer.params is not None:\n",
        "                for j in range(len(layer.params)):\n",
        "                    param_name = f'layer_{i}_param_{j}'\n",
        "                    if param_name in params:\n",
        "                        layer.params[j] = params[param_name]\n",
        "                    else:\n",
        "                        print(f\"Warning: {param_name} not found in the loaded file\")\n",
        "\n",
        "        print(f\"Model parameters loaded from {filepath}\")"
      ]
    },
    {
      "cell_type": "code",
      "source": [
        "class Optimizer(ABC):\n",
        "    \"\"\"The base class for optimizer.\"\"\"\n",
        "    def __init__(self, learning_rate, layers):\n",
        "        super().__init__()\n",
        "\n",
        "    @abstractmethod\n",
        "    def update(self):\n",
        "        raise NotImplementedError"
      ],
      "metadata": {
        "id": "4MHzbP9bQM-a"
      },
      "execution_count": null,
      "outputs": []
    },
    {
      "cell_type": "code",
      "source": [
        "class SGD(Optimizer):\n",
        "    \"\"\"SGD (Stochastic gradient descent) optimizer\"\"\"\n",
        "    def __init__(self, learning_rate, layers):\n",
        "        self.learning_rate = learning_rate\n",
        "        self.layers = layers\n",
        "\n",
        "    def update(self):\n",
        "        for i in range(len(self.layers)):\n",
        "          layer = self.layers[i]\n",
        "          if layer.params is not None:\n",
        "            for key in layer.params.keys():\n",
        "              layer.params[key] -= self.learning_rate * layer.grads[key]"
      ],
      "metadata": {
        "id": "AKcD3el7HsB4"
      },
      "execution_count": null,
      "outputs": []
    },
    {
      "cell_type": "code",
      "source": [
        "def train_and_valid(model, optimizer, train_data, train_label, valid_data, valid_label, epochs, batch_size):\n",
        "  \"\"\"\n",
        "  Trains and validates a neural network model.\n",
        "\n",
        "  Args:\n",
        "    model: The neural network model.\n",
        "    optimizer: The optimizer used for training.\n",
        "    train_data: The training data.\n",
        "    train_label: The training labels.\n",
        "    valid_data: The validation data.\n",
        "    valid_label: The validation labels.\n",
        "    epochs: The number of training epochs.\n",
        "    batch_size: The batch size for training.\n",
        "  \"\"\"\n",
        "  for epoch in range(epochs):\n",
        "    # Shuffle training data for each epoch\n",
        "    train_data, train_label = shuffle(train_data, train_label)\n",
        "\n",
        "    # Training loop\n",
        "    train_loss = 0\n",
        "    train_correct = 0\n",
        "    for data_batch, label_batch in data_generator(train_data, train_label, batch_size):\n",
        "      loss, output = model.forward(data_batch, label_batch)\n",
        "      train_loss += loss\n",
        "      train_correct += np.sum(np.argmax(output, axis=1) == label_batch)\n",
        "      model.backward()\n",
        "      optimizer.update()\n",
        "\n",
        "    # Validation loop\n",
        "    valid_loss = 0\n",
        "    valid_correct = 0\n",
        "    for data_batch, label_batch in data_generator(valid_data, valid_label, batch_size):\n",
        "      loss, output = model.forward(data_batch, label_batch)\n",
        "      valid_loss += loss\n",
        "      valid_correct += np.sum(np.argmax(output, axis=1) == label_batch)\n",
        "\n",
        "    print(f'Epoch: {epoch + 1}/{epochs}, Train Loss: {train_loss / len(train_data):.4f}, Train Acc: {train_correct / len(train_data):.4f}, Valid Loss: {valid_loss / len(valid_data):.4f}, Valid Acc: {valid_correct / len(valid_data):.4f}')"
      ],
      "metadata": {
        "id": "Zd_1_m2f6GJq"
      },
      "execution_count": null,
      "outputs": []
    },
    {
      "cell_type": "code",
      "source": [
        "def test(model, test_data, test_label, batch_size=1):\n",
        "  \"\"\"\n",
        "  Tests the neural network model on the test dataset.\n",
        "\n",
        "  Args:\n",
        "    model: The neural network model.\n",
        "    test_data: The test data.\n",
        "    test_label: The test labels.\n",
        "    batch_size: The batch size for testing.\n",
        "  \"\"\"\n",
        "  test_correct = 0\n",
        "  for data_batch, label_batch in data_generator(test_data, test_label, batch_size):\n",
        "    _, output = model.forward(data_batch, label_batch)\n",
        "    test_correct += np.sum(np.argmax(output, axis=1) == label_batch)\n",
        "\n",
        "  print(f'Test Acc: {test_correct / len(test_data):.4f}')\n"
      ],
      "metadata": {
        "id": "ybOGOvPc8Ba7"
      },
      "execution_count": null,
      "outputs": []
    },
    {
      "cell_type": "code",
      "source": [
        "model_fnn = FNN()\n",
        "learning_rate = 5e-3\n",
        "epochs = 10\n",
        "batch_size = 256\n",
        "optimizer = SGD(learning_rate, model_fnn.layers)\n",
        "\n",
        "train_and_valid(model_fnn, optimizer, train_data, train_label, valid_data, valid_label, epochs, batch_size)\n"
      ],
      "metadata": {
        "colab": {
          "base_uri": "https://localhost:8080/"
        },
        "id": "HclAqk256-RT",
        "outputId": "828d7658-3426-4f11-a6b4-24c9e1c94a75"
      },
      "execution_count": null,
      "outputs": [
        {
          "output_type": "stream",
          "name": "stdout",
          "text": [
            "Epoch: 1/10, Train Loss: 0.0096, Train Acc: 0.1075, Valid Loss: 0.0091, Valid Acc: 0.1102\n",
            "Epoch: 2/10, Train Loss: 0.0090, Train Acc: 0.1129, Valid Loss: 0.0090, Valid Acc: 0.1102\n",
            "Epoch: 3/10, Train Loss: 0.0090, Train Acc: 0.1129, Valid Loss: 0.0090, Valid Acc: 0.1102\n",
            "Epoch: 4/10, Train Loss: 0.0090, Train Acc: 0.1129, Valid Loss: 0.0090, Valid Acc: 0.1102\n",
            "Epoch: 5/10, Train Loss: 0.0090, Train Acc: 0.1129, Valid Loss: 0.0090, Valid Acc: 0.1102\n",
            "Epoch: 6/10, Train Loss: 0.0090, Train Acc: 0.1129, Valid Loss: 0.0090, Valid Acc: 0.1102\n",
            "Epoch: 7/10, Train Loss: 0.0090, Train Acc: 0.1129, Valid Loss: 0.0090, Valid Acc: 0.1102\n",
            "Epoch: 8/10, Train Loss: 0.0090, Train Acc: 0.1129, Valid Loss: 0.0090, Valid Acc: 0.1102\n",
            "Epoch: 9/10, Train Loss: 0.0090, Train Acc: 0.1129, Valid Loss: 0.0090, Valid Acc: 0.1102\n",
            "Epoch: 10/10, Train Loss: 0.0090, Train Acc: 0.1129, Valid Loss: 0.0090, Valid Acc: 0.1102\n"
          ]
        }
      ]
    },
    {
      "cell_type": "code",
      "source": [
        "# Saving the model\n",
        "\n",
        "file = 'model_fnn.npz'\n",
        "model_fnn.save(file)"
      ],
      "metadata": {
        "colab": {
          "base_uri": "https://localhost:8080/"
        },
        "id": "4MskyEoGElA_",
        "outputId": "d25da75e-bb02-4ed9-8f51-21aa3050a51e"
      },
      "execution_count": null,
      "outputs": [
        {
          "output_type": "stream",
          "name": "stdout",
          "text": [
            "Model parameters saved to model_fnn.npz\n"
          ]
        }
      ]
    },
    {
      "cell_type": "code",
      "source": [
        "# Loading model\n",
        "file = 'model_fnn.npz'\n",
        "loaded_model = FNN()\n",
        "loaded_model.load(file)"
      ],
      "metadata": {
        "colab": {
          "base_uri": "https://localhost:8080/"
        },
        "id": "SwsCv52XFe4Y",
        "outputId": "08cbe895-499f-4acc-ca02-94ce06ed9f97"
      },
      "execution_count": null,
      "outputs": [
        {
          "output_type": "stream",
          "name": "stdout",
          "text": [
            "Model parameters loaded from model_fnn.npz\n"
          ]
        }
      ]
    },
    {
      "cell_type": "code",
      "source": [
        "test(model_fnn, test_data, test_label)"
      ],
      "metadata": {
        "colab": {
          "base_uri": "https://localhost:8080/"
        },
        "id": "RcrHoGmk78OL",
        "outputId": "2b20bafb-5fa0-492d-c56f-c435c4a3dfc1"
      },
      "execution_count": null,
      "outputs": [
        {
          "output_type": "stream",
          "name": "stdout",
          "text": [
            "Test Acc: 0.1135\n"
          ]
        }
      ]
    },
    {
      "cell_type": "code",
      "source": [
        "test(loaded_model, test_data, test_label)"
      ],
      "metadata": {
        "colab": {
          "base_uri": "https://localhost:8080/"
        },
        "id": "29XRZ6oICL9L",
        "outputId": "1e1327ed-9cae-4276-fda1-296698395747"
      },
      "execution_count": null,
      "outputs": [
        {
          "output_type": "stream",
          "name": "stdout",
          "text": [
            "Test Acc: 0.0974\n"
          ]
        }
      ]
    }
  ],
  "metadata": {
    "kernelspec": {
      "display_name": "Python 3",
      "name": "python3"
    },
    "language_info": {
      "codemirror_mode": {
        "name": "ipython",
        "version": 3
      },
      "file_extension": ".py",
      "mimetype": "text/x-python",
      "name": "python",
      "nbconvert_exporter": "python",
      "pygments_lexer": "ipython3",
      "version": "3.7.9"
    },
    "colab": {
      "provenance": [],
      "include_colab_link": true
    }
  },
  "nbformat": 4,
  "nbformat_minor": 0
}